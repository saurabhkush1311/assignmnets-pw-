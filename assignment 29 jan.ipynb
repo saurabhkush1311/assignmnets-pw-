{
 "cells": [
  {
   "cell_type": "code",
   "execution_count": 1,
   "id": "43dc35ca-57cf-4eee-a278-eada32d75dd7",
   "metadata": {},
   "outputs": [],
   "source": [
    "# 29th january assignment\n"
   ]
  },
  {
   "cell_type": "code",
   "execution_count": null,
   "id": "5274404b-837e-4424-bd2d-d6887c599579",
   "metadata": {},
   "outputs": [],
   "source": [
    "question 1:\n",
    "answer: Guido Van Rossum.\n",
    "\n",
    "question 2:\n",
    "answer: Objecr Oriented Programming and Structured Programming.\n",
    "\n",
    "question 3:\n",
    "answer: Yes, python is a case sensitive language.\n",
    "\n",
    "question 4:\n",
    "answer: .py\n",
    "\n",
    "question 5:\n",
    "answer: Interpreted language.\n",
    "\n",
    "question 6:\n",
    "answer: Indentation is used to define block of code.\n",
    "\n",
    "question 7:\n",
    "answer: hash(#) is used for single line comment.\n",
    "    \n",
    "question 8:\n",
    "answer: sys.version.\n",
    "    \n",
    "question 9:\n",
    "answer: lambda.\n",
    "    \n",
    "question 10:\n",
    "answer: pip is a package manager for python. which is also called Preffered Installer Program.\n",
    "    \n",
    "question 11:\n",
    "answer: int(),str(),float(),type() etc.\n",
    "    \n",
    "question 12:\n",
    "answer: An identifier can have maximum length of 79 characters.\n",
    "    \n",
    "question 13:\n",
    "answer: Because it helps us in various fields like Data Science, web development,game development etc. and easy syntax than other.\n",
    "    \n",
    "question 14:\n",
    "answer: memory in python is managed by python private heap space.\n",
    "    \n",
    "question 15:\n",
    "answer:\n",
    "    \n",
    "question 16:\n",
    "answer: Yes, indentation is required in python.\n",
    "    \n"
   ]
  }
 ],
 "metadata": {
  "kernelspec": {
   "display_name": "Python 3 (ipykernel)",
   "language": "python",
   "name": "python3"
  },
  "language_info": {
   "codemirror_mode": {
    "name": "ipython",
    "version": 3
   },
   "file_extension": ".py",
   "mimetype": "text/x-python",
   "name": "python",
   "nbconvert_exporter": "python",
   "pygments_lexer": "ipython3",
   "version": "3.10.6"
  }
 },
 "nbformat": 4,
 "nbformat_minor": 5
}
